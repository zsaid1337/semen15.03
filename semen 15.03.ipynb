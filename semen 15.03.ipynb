{
 "cells": [
  {
   "cell_type": "code",
   "execution_count": 1,
   "id": "6109fa5f",
   "metadata": {},
   "outputs": [],
   "source": [
    "#список ребер\n",
    "edge_list = [ \n",
    "             [0,1], [0,3], \n",
    "             [1,3], \n",
    "             [2,3], \n",
    "             [4,0], [4,3], \n",
    "             [5,0]\n",
    "]\n",
    "vert_num = 6"
   ]
  },
  {
   "cell_type": "code",
   "execution_count": 2,
   "id": "9e0b5d8f",
   "metadata": {},
   "outputs": [
    {
     "data": {
      "text/plain": [
       "[[1, 3], [3], [3], [], [0, 3], [0]]"
      ]
     },
     "execution_count": 2,
     "metadata": {},
     "output_type": "execute_result"
    }
   ],
   "source": [
    "#список смежности\n",
    "adj_list = [[] for _ in range(vert_num)]\n",
    "for edge in edge_list:\n",
    "    u = edge[0]\n",
    "    v = edge[1]\n",
    "    adj_list[u].append(v)\n",
    "adj_list"
   ]
  },
  {
   "cell_type": "code",
   "execution_count": 3,
   "id": "6d34e052",
   "metadata": {},
   "outputs": [
    {
     "data": {
      "text/plain": [
       "[[0, 1, 0, 1, 0, 0],\n",
       " [0, 0, 0, 1, 0, 0],\n",
       " [0, 0, 0, 1, 0, 0],\n",
       " [0, 0, 0, 0, 0, 0],\n",
       " [1, 0, 0, 1, 0, 0],\n",
       " [1, 0, 0, 0, 0, 0]]"
      ]
     },
     "execution_count": 3,
     "metadata": {},
     "output_type": "execute_result"
    }
   ],
   "source": [
    "#матрица смежности\n",
    "adj_matrix = [[0 for _ in range(vert_num)] \n",
    "              for _ in range(vert_num)\n",
    "             ]\n",
    "for edge in edge_list:\n",
    "    u = edge[0]\n",
    "    v = edge[1]\n",
    "    adj_matrix[u][v] = 1\n",
    "adj_matrix"
   ]
  },
  {
   "cell_type": "code",
   "execution_count": 4,
   "id": "c00a1c3d",
   "metadata": {},
   "outputs": [],
   "source": [
    "edge_list = [ \n",
    "             [0,1], [0,2], [0,3],\n",
    "             [1,2], [1,4],\n",
    "             [2,4],\n",
    "             [3,4],\n",
    "             [4,5],\n",
    "             [5,3],\n",
    "             [6,5]\n",
    "]\n",
    "vert_num = 7"
   ]
  },
  {
   "cell_type": "code",
   "execution_count": 5,
   "id": "791cb3ec",
   "metadata": {},
   "outputs": [
    {
     "data": {
      "text/plain": [
       "[[1, 2, 3], [2, 4], [4], [4], [5], [3], [5]]"
      ]
     },
     "execution_count": 5,
     "metadata": {},
     "output_type": "execute_result"
    }
   ],
   "source": [
    "adj_list = [[] for _ in range(vert_num)]\n",
    "for edge in edge_list:\n",
    "    u = edge[0]\n",
    "    v = edge[1]\n",
    "    adj_list[u].append(v)\n",
    "adj_list"
   ]
  },
  {
   "cell_type": "code",
   "execution_count": 6,
   "id": "61cd686c",
   "metadata": {},
   "outputs": [
    {
     "name": "stdout",
     "output_type": "stream",
     "text": [
      "found cycle [5, 3, 4, 5]\n",
      "['w', 'w', 'w', 'b', 'b', 'b', 'b']\n",
      "[None, None, None, 3, 4, 2, 1]\n",
      "[None, None, None, 6, 5, 7, 8]\n"
     ]
    }
   ],
   "source": [
    "#поиск в глубину(DFS)\n",
    "#colors - показывает состояние вершины\n",
    "\n",
    "g = adj_list\n",
    "parents = [None for _ in range(vert_num)]\n",
    "colors = [\"w\" for _ in range(vert_num)]\n",
    "timer = 0\n",
    "tin = [None for _ in range(vert_num)]\n",
    "tout = [None for _ in range(vert_num)]\n",
    "def cycle(x, y, listik):\n",
    "    \n",
    "    otec = parents[x]\n",
    "    if otec == y:\n",
    "        listik.append(y)\n",
    "    else:\n",
    "        listik.append(otec)\n",
    "        cycle(otec, y, listik)\n",
    "    return listik\n",
    "    \n",
    "    \n",
    "def dfs(v, p=-1):\n",
    "    listik = []\n",
    "    global timer\n",
    "    parents[v] = p\n",
    "    colors[v] = \"g\"\n",
    "    timer += 1\n",
    "    tin[v] = timer\n",
    "    for u in g[v]:\n",
    "        if colors[u] == \"g\":\n",
    "            otci = cycle(v, u, listik)\n",
    "            otci = otci[::-1]\n",
    "            otci.append(v)\n",
    "            otci.append(u)\n",
    "\n",
    "            \n",
    "            \n",
    "             \n",
    "            print(f\"found cycle {otci}\")\n",
    "            \n",
    "            continue\n",
    "        elif colors[u] == \"b\":\n",
    "            continue\n",
    "        elif colors[u] == \"w\":\n",
    "            dfs(u, v)\n",
    "    colors[v] = \"b\"\n",
    "    timer += 1\n",
    "    tout[v] = timer\n",
    "dfs(6)\n",
    "print(colors)\n",
    "print(tin)\n",
    "print(tout)"
   ]
  },
  {
   "cell_type": "code",
   "execution_count": 7,
   "id": "6b4175de",
   "metadata": {},
   "outputs": [],
   "source": [
    "edge_list = [ \n",
    "             [0,1], [0,3], \n",
    "             [1,3], \n",
    "             [2,3], \n",
    "             [4,0], [4,3], \n",
    "             [5,0]\n",
    "]\n",
    "vert_num = 6"
   ]
  },
  {
   "cell_type": "code",
   "execution_count": 8,
   "id": "fde242d0",
   "metadata": {},
   "outputs": [
    {
     "data": {
      "text/plain": [
       "[[1, 3], [3], [3], [], [0, 3], [0]]"
      ]
     },
     "execution_count": 8,
     "metadata": {},
     "output_type": "execute_result"
    }
   ],
   "source": [
    "#список смежности\n",
    "adj_list = [[] for _ in range(vert_num)]\n",
    "for edge in edge_list:\n",
    "    u = edge[0]\n",
    "    v = edge[1]\n",
    "    adj_list[u].append(v)\n",
    "adj_list"
   ]
  },
  {
   "cell_type": "code",
   "execution_count": 9,
   "id": "14a620f7",
   "metadata": {},
   "outputs": [
    {
     "name": "stdout",
     "output_type": "stream",
     "text": [
      "[5, 4, 2, 0, 1, 3]\n"
     ]
    }
   ],
   "source": [
    "#топологическая сортировка \n",
    "g = adj_list\n",
    "parents = [None for _ in range(vert_num)]\n",
    "colors = [\"w\" for _ in range(vert_num)]\n",
    "timer = 0\n",
    "tin = [None for _ in range(vert_num)]\n",
    "tout = [None for _ in range(vert_num)]\n",
    "def top_sort():\n",
    "    for v in range(vert_num):\n",
    "        if colors[v] == \"w\":\n",
    "            dfs(v)\n",
    "\n",
    "    vert_list = [i for i in range(vert_num)]\n",
    "    ans =[\n",
    "        x for y, x in sorted(zip(tout, vert_list),\n",
    "key = lambda pair: pair[0], reverse = True)\n",
    "    ]\n",
    "    return ans\n",
    "top_sort()\n",
    "ts = top_sort()\n",
    "print(ts)"
   ]
  },
  {
   "cell_type": "code",
   "execution_count": 10,
   "id": "8481762f",
   "metadata": {},
   "outputs": [
    {
     "name": "stdout",
     "output_type": "stream",
     "text": [
      "[4, 1, 1, 0, 9, 8]\n"
     ]
    }
   ],
   "source": [
    "adj_list = [[1, 3], [3], [3], [], [0, 3], [0]]\n",
    "sum = 0\n",
    "\n",
    "\n",
    "def niga(n, sum, vert, adj_list):\n",
    "    while vert:\n",
    "        sum += n\n",
    "        x = vert.pop(0)\n",
    "        sum += niga(n + 1, 0, adj_list[x].copy(), adj_list.copy())\n",
    "\n",
    "    return sum\n",
    "\n",
    "\n",
    "path_num = [0, 1, 2, 3, 4, 5]\n",
    "paths_num = [niga(1, 0, adj_list[i].copy(), adj_list.copy()) for i in path_num]\n",
    "print(paths_num)"
   ]
  },
  {
   "cell_type": "code",
   "execution_count": null,
   "id": "fbfd5b2c",
   "metadata": {},
   "outputs": [],
   "source": []
  },
  {
   "cell_type": "code",
   "execution_count": null,
   "id": "bc58a79f",
   "metadata": {},
   "outputs": [],
   "source": []
  },
  {
   "cell_type": "code",
   "execution_count": null,
   "id": "fb2615ec",
   "metadata": {},
   "outputs": [],
   "source": []
  },
  {
   "cell_type": "code",
   "execution_count": null,
   "id": "91e8b880",
   "metadata": {},
   "outputs": [],
   "source": []
  },
  {
   "cell_type": "code",
   "execution_count": null,
   "id": "900ea6e8",
   "metadata": {},
   "outputs": [],
   "source": []
  },
  {
   "cell_type": "code",
   "execution_count": null,
   "id": "aadfc013",
   "metadata": {},
   "outputs": [],
   "source": []
  },
  {
   "cell_type": "code",
   "execution_count": null,
   "id": "3fc59c8c",
   "metadata": {},
   "outputs": [],
   "source": []
  },
  {
   "cell_type": "code",
   "execution_count": null,
   "id": "0da59dc3",
   "metadata": {},
   "outputs": [],
   "source": []
  }
 ],
 "metadata": {
  "kernelspec": {
   "display_name": "Python 3 (ipykernel)",
   "language": "python",
   "name": "python3"
  },
  "language_info": {
   "codemirror_mode": {
    "name": "ipython",
    "version": 3
   },
   "file_extension": ".py",
   "mimetype": "text/x-python",
   "name": "python",
   "nbconvert_exporter": "python",
   "pygments_lexer": "ipython3",
   "version": "3.11.5"
  }
 },
 "nbformat": 4,
 "nbformat_minor": 5
}
